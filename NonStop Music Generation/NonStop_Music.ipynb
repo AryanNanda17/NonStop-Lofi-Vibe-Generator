{
 "cells": [
  {
   "cell_type": "code",
   "execution_count": 1,
   "metadata": {
    "colab": {
     "base_uri": "https://localhost:8080/"
    },
    "id": "qHS38uc7tRit",
    "outputId": "d3bc8581-572b-4a00-b0b8-3cb554257f9e"
   },
   "outputs": [
    {
     "name": "stdout",
     "output_type": "stream",
     "text": [
      "Requirement already satisfied: np_utils in /Users/Aryan/mambaforge/envs/Lofi_Vibe_Generator/lib/python3.11/site-packages (0.6.0)\n",
      "Requirement already satisfied: numpy>=1.0 in /Users/Aryan/mambaforge/envs/Lofi_Vibe_Generator/lib/python3.11/site-packages (from np_utils) (1.26.3)\n"
     ]
    }
   ],
   "source": [
    "!pip install np_utils"
   ]
  },
  {
   "cell_type": "code",
   "execution_count": 4,
   "metadata": {
    "id": "u_OCLlsTsiyJ"
   },
   "outputs": [],
   "source": [
    "from music21 import *\n",
    "import keras\n",
    "from tensorflow.keras import backend as k\n",
    "import glob\n",
    "import numpy\n",
    "import np_utils\n",
    "from tensorflow.keras.utils import to_categorical\n",
    "from tensorflow.keras.models import Sequential\n",
    "from tensorflow.keras.layers import Dense, Activation,Dropout,LSTM\n",
    "from tensorflow.keras.optimizers import RMSprop\n",
    "import librosa"
   ]
  },
  {
   "cell_type": "code",
   "execution_count": 5,
   "metadata": {
    "colab": {
     "base_uri": "https://localhost:8080/"
    },
    "id": "LbJCCEb9tNAf",
    "outputId": "11d3f162-9266-463d-9ff1-56d42197abc5"
   },
   "outputs": [
    {
     "name": "stdout",
     "output_type": "stream",
     "text": [
      "processing song no:  0\n",
      "processing song no:  1\n",
      "processing song no:  2\n",
      "processing song no:  3\n",
      "processing song no:  4\n",
      "processing song no:  5\n",
      "processing song no:  6\n",
      "processing song no:  7\n",
      "processing song no:  8\n",
      "processing song no:  9\n",
      "processing song no:  10\n",
      "processing song no:  11\n",
      "processing song no:  12\n"
     ]
    },
    {
     "name": "stderr",
     "output_type": "stream",
     "text": [
      "/Users/Aryan/mambaforge/envs/Lofi_Vibe_Generator/lib/python3.11/site-packages/music21/midi/translate.py:874: TranslateWarning: Unable to determine instrument from <music21.midi.MidiEvent SEQUENCE_TRACK_NAME, track=5, channel=None, data=b'Martin Rosok Copyright \\xa9 1998'>; getting generic Instrument\n",
      "  warnings.warn(\n"
     ]
    },
    {
     "name": "stdout",
     "output_type": "stream",
     "text": [
      "processing song no:  13\n",
      "processing song no:  14\n",
      "processing song no:  15\n",
      "processing song no:  16\n",
      "processing song no:  17\n",
      "processing song no:  18\n",
      "processing song no:  19\n",
      "processing song no:  20\n",
      "processing song no:  21\n",
      "processing song no:  22\n",
      "processing song no:  23\n",
      "processing song no:  24\n",
      "processing song no:  25\n",
      "processing song no:  26\n",
      "processing song no:  27\n",
      "processing song no:  28\n",
      "processing song no:  29\n",
      "processing song no:  30\n",
      "processing song no:  31\n",
      "processing song no:  32\n",
      "processing song no:  33\n",
      "processing song no:  34\n",
      "processing song no:  35\n",
      "processing song no:  36\n",
      "processing song no:  37\n",
      "processing song no:  38\n",
      "processing song no:  39\n",
      "processing song no:  40\n",
      "processing song no:  41\n",
      "processing song no:  42\n",
      "processing song no:  43\n",
      "processing song no:  44\n",
      "processing song no:  45\n",
      "processing song no:  46\n",
      "processing song no:  47\n",
      "processing song no:  48\n",
      "processing song no:  49\n",
      "processing song no:  50\n",
      "processing song no:  51\n",
      "processing song no:  52\n"
     ]
    },
    {
     "name": "stderr",
     "output_type": "stream",
     "text": [
      "/Users/Aryan/mambaforge/envs/Lofi_Vibe_Generator/lib/python3.11/site-packages/music21/midi/translate.py:874: TranslateWarning: Unable to determine instrument from <music21.midi.MidiEvent SEQUENCE_TRACK_NAME, track=6, channel=None, data=b'Pok\\xe9mon: Elite Four (Piano)'>; getting generic Instrument\n",
      "  warnings.warn(\n"
     ]
    },
    {
     "name": "stdout",
     "output_type": "stream",
     "text": [
      "processing song no:  53\n",
      "processing song no:  54\n",
      "processing song no:  55\n",
      "processing song no:  56\n",
      "processing song no:  57\n",
      "processing song no:  58\n",
      "processing song no:  59\n",
      "processing song no:  60\n",
      "processing song no:  61\n",
      "processing song no:  62\n",
      "processing song no:  63\n",
      "processing song no:  64\n",
      "processing song no:  65\n",
      "processing song no:  66\n",
      "processing song no:  67\n",
      "processing song no:  68\n",
      "processing song no:  69\n",
      "processing song no:  70\n",
      "processing song no:  71\n",
      "processing song no:  72\n",
      "processing song no:  73\n",
      "processing song no:  74\n",
      "processing song no:  75\n",
      "processing song no:  76\n",
      "processing song no:  77\n",
      "processing song no:  78\n",
      "processing song no:  79\n",
      "processing song no:  80\n",
      "processing song no:  81\n",
      "processing song no:  82\n",
      "processing song no:  83\n",
      "processing song no:  84\n",
      "processing song no:  85\n",
      "processing song no:  86\n",
      "processing song no:  87\n",
      "processing song no:  88\n",
      "processing song no:  89\n",
      "processing song no:  90\n",
      "processing song no:  91\n"
     ]
    }
   ],
   "source": [
    "notes = []\n",
    "counter = 0\n",
    "\n",
    "new_directory_path = \"midi_songs/*.mid\"\n",
    "\n",
    "for file in glob.glob(new_directory_path):\n",
    "    print('processing song no: ', counter)\n",
    "    counter = counter + 1\n",
    "    midi = converter.parse(file)\n",
    "    notes_to_parse = None\n",
    "    parts = instrument.partitionByInstrument(midi)\n",
    "    \n",
    "    if parts:  # file has instrument parts\n",
    "        notes_to_parse = parts.parts[0].recurse()\n",
    "    else:  # file has notes in a flat structure\n",
    "        notes_to_parse = midi.flat.notes\n",
    "    \n",
    "    for element in notes_to_parse:\n",
    "        if isinstance(element, note.Note):\n",
    "            notes.append(str(element.pitch))\n",
    "        elif isinstance(element, chord.Chord):\n",
    "            notes.append('.'.join(str(n) for n in element.normalOrder))\n"
   ]
  },
  {
   "cell_type": "code",
   "execution_count": 6,
   "metadata": {
    "colab": {
     "base_uri": "https://localhost:8080/"
    },
    "id": "n6F5el_bti39",
    "outputId": "dcc969c5-6b5d-4d90-c4bc-7ea3870eb26a"
   },
   "outputs": [
    {
     "name": "stdout",
     "output_type": "stream",
     "text": [
      "[[[0.95092025]\n",
      "  [0.95092025]\n",
      "  [0.8006135 ]\n",
      "  ...\n",
      "  [0.94785276]\n",
      "  [0.95705521]\n",
      "  [0.99386503]]\n",
      "\n",
      " [[0.95092025]\n",
      "  [0.8006135 ]\n",
      "  [0.95092025]\n",
      "  ...\n",
      "  [0.95705521]\n",
      "  [0.99386503]\n",
      "  [0.97546012]]\n",
      "\n",
      " [[0.8006135 ]\n",
      "  [0.95092025]\n",
      "  [0.99079755]\n",
      "  ...\n",
      "  [0.99386503]\n",
      "  [0.97546012]\n",
      "  [0.94785276]]\n",
      "\n",
      " ...\n",
      "\n",
      " [[0.97239264]\n",
      "  [0.8006135 ]\n",
      "  [0.97239264]\n",
      "  ...\n",
      "  [0.33128834]\n",
      "  [0.86196319]\n",
      "  [0.94785276]]\n",
      "\n",
      " [[0.8006135 ]\n",
      "  [0.97239264]\n",
      "  [0.99079755]\n",
      "  ...\n",
      "  [0.86196319]\n",
      "  [0.94785276]\n",
      "  [0.33128834]]\n",
      "\n",
      " [[0.97239264]\n",
      "  [0.99079755]\n",
      "  [0.95398773]\n",
      "  ...\n",
      "  [0.94785276]\n",
      "  [0.33128834]\n",
      "  [0.86196319]]]\n"
     ]
    }
   ],
   "source": [
    "sequence_length = 100\n",
    "n_vocab = len(set(notes))\n",
    "\n",
    "# get all pitch names\n",
    "pitchnames = sorted(set(item for item in notes))\n",
    "# create a dictionary to map pitches to integers\n",
    "note_to_int = dict((note, number) for number, note in enumerate(pitchnames))\n",
    "network_input = []\n",
    "network_output = []\n",
    "# create input sequences and the corresponding outputs\n",
    "for i in range(0, len(notes) - sequence_length, 1):\n",
    "    sequence_in = notes[i:i + sequence_length]\n",
    "    sequence_out = notes[i + sequence_length]\n",
    "    network_input.append([note_to_int[char] for char in sequence_in])\n",
    "    network_output.append(note_to_int[sequence_out])\n",
    "n_patterns = len(network_input)\n",
    "# reshape the input into a format compatible with LSTM layers\n",
    "network_input = numpy.reshape(network_input, (n_patterns, sequence_length, 1))\n",
    "# normalize input\n",
    "network_input = network_input / float(n_vocab)\n",
    "print(network_input)\n",
    "# Check if network_output is not empty\n",
    "if not network_output:\n",
    "    raise ValueError(\"The network_output list is empty. Check your data.\")\n",
    "\n",
    "network_output = keras.utils.to_categorical(network_output, num_classes=n_vocab)\n",
    "\n",
    "# ... rest of your code\n",
    "\n",
    "# If this is within a function, you might return the processed data\n",
    "# return network_input, network_output\n"
   ]
  },
  {
   "cell_type": "code",
   "execution_count": 7,
   "metadata": {
    "id": "7wi8h4jLuJTw"
   },
   "outputs": [],
   "source": [
    "model = Sequential()\n",
    "model.add(LSTM(\n",
    "        256,\n",
    "        input_shape=(network_input.shape[1], network_input.shape[2]),\n",
    "        return_sequences=True\n",
    "    ))\n",
    "model.add(Dropout(0.3))\n",
    "model.add(LSTM(512, return_sequences=True))\n",
    "model.add(Dropout(0.3))\n",
    "model.add(LSTM(256))\n",
    "model.add(Dense(256))\n",
    "model.add(Dropout(0.3))\n",
    "model.add(Dense(n_vocab))\n",
    "model.add(Activation('softmax'))\n",
    "model.compile(loss='categorical_crossentropy', optimizer='rmsprop')"
   ]
  },
  {
   "cell_type": "code",
   "execution_count": 8,
   "metadata": {
    "colab": {
     "base_uri": "https://localhost:8080/"
    },
    "id": "FaRrKQ5YuQJ_",
    "outputId": "3a700e44-7ba1-47ef-9328-e9f9964880ff"
   },
   "outputs": [
    {
     "name": "stdout",
     "output_type": "stream",
     "text": [
      "Model: \"sequential\"\n",
      "_________________________________________________________________\n",
      " Layer (type)                Output Shape              Param #   \n",
      "=================================================================\n",
      " lstm (LSTM)                 (None, 100, 256)          264192    \n",
      "                                                                 \n",
      " dropout (Dropout)           (None, 100, 256)          0         \n",
      "                                                                 \n",
      " lstm_1 (LSTM)               (None, 100, 512)          1574912   \n",
      "                                                                 \n",
      " dropout_1 (Dropout)         (None, 100, 512)          0         \n",
      "                                                                 \n",
      " lstm_2 (LSTM)               (None, 256)               787456    \n",
      "                                                                 \n",
      " dense (Dense)               (None, 256)               65792     \n",
      "                                                                 \n",
      " dropout_2 (Dropout)         (None, 256)               0         \n",
      "                                                                 \n",
      " dense_1 (Dense)             (None, 326)               83782     \n",
      "                                                                 \n",
      " activation (Activation)     (None, 326)               0         \n",
      "                                                                 \n",
      "=================================================================\n",
      "Total params: 2776134 (10.59 MB)\n",
      "Trainable params: 2776134 (10.59 MB)\n",
      "Non-trainable params: 0 (0.00 Byte)\n",
      "_________________________________________________________________\n"
     ]
    }
   ],
   "source": [
    "model.summary()"
   ]
  },
  {
   "cell_type": "code",
   "execution_count": null,
   "metadata": {
    "colab": {
     "base_uri": "https://localhost:8080/"
    },
    "id": "HrYe93TXuU8G",
    "outputId": "00fcb842-5c2b-498d-f8d2-44e91fce25db"
   },
   "outputs": [
    {
     "name": "stdout",
     "output_type": "stream",
     "text": [
      "Epoch 1/200\n",
      "90/90 [==============================] - 340s 4s/step - loss: 4.7860\n",
      "Epoch 2/200\n"
     ]
    },
    {
     "name": "stderr",
     "output_type": "stream",
     "text": [
      "/Users/Aryan/mambaforge/envs/Lofi_Vibe_Generator/lib/python3.11/site-packages/keras/src/engine/training.py:3103: UserWarning: You are saving your model as an HDF5 file via `model.save()`. This file format is considered legacy. We recommend using instead the native Keras format, e.g. `model.save('my_model.keras')`.\n",
      "  saving_api.save_model(\n"
     ]
    },
    {
     "name": "stdout",
     "output_type": "stream",
     "text": [
      "22/90 [======>.......................] - ETA: 5:00 - loss: 4.7089"
     ]
    }
   ],
   "source": [
    "filepath = \"weights-improvement-{epoch:02d}-{loss:.4f}-bigger.hdf5\"\n",
    "checkpoint = keras.callbacks.ModelCheckpoint(\n",
    "    filepath, monitor='loss',\n",
    "    verbose=0,\n",
    "    save_best_only=True,\n",
    "    mode='min'\n",
    ")\n",
    "callbacks_list = [checkpoint]\n",
    "model.fit(network_input, network_output, epochs=200, batch_size=512, callbacks=callbacks_list)"
   ]
  },
  {
   "cell_type": "code",
   "execution_count": null,
   "metadata": {
    "colab": {
     "base_uri": "https://localhost:8080/",
     "height": 1000
    },
    "id": "LLhFzef-Jst4",
    "outputId": "3f9a1b03-2b1a-4207-834b-87f0b39cd38d"
   },
   "outputs": [],
   "source": [
    "import time\n",
    "start = numpy.random.randint(0, len(network_input)-1)\n",
    "int_to_note = dict((number, note) for number, note in enumerate(pitchnames))\n",
    "pattern = network_input[start]\n",
    "\n",
    "prediction_output = []\n",
    "offset = 0\n",
    "output_notes = []\n",
    "while True:\n",
    "    prediction_input = numpy.reshape(pattern, (1, len(pattern), 1))\n",
    "    prediction_input = prediction_input / float(n_vocab)\n",
    "    prediction = model.predict(prediction_input, verbose=0)\n",
    "    index = numpy.argmax(prediction)\n",
    "    try:\n",
    "      result = int_to_note[index]\n",
    "    except KeyError:\n",
    "    # Handle out-of-range index, for example:\n",
    "      result = \"C4\"  # Default note\n",
    "\n",
    "    prediction_output.append(result)\n",
    "    ind =numpy.asarray([index])\n",
    "    pattern = numpy.append(pattern, ind)\n",
    "    pattern = pattern[1:len(pattern)]\n",
    "\n",
    "    if ('.' in result) or result.isdigit():\n",
    "        notes_in_chord = result.split('.')\n",
    "        notes = []\n",
    "        for current_note in notes_in_chord:\n",
    "            new_note = note.Note(int(current_note))\n",
    "            new_note.storedInstrument = instrument.Piano()\n",
    "            notes.append(new_note)\n",
    "        new_chord = chord.Chord(notes)\n",
    "        new_chord.offset = offset\n",
    "        output_notes.append(new_chord)\n",
    "    # pattern is a note\n",
    "    else:\n",
    "        rounded_pitch = round(pattern[0])\n",
    "        if rounded_pitch in int_to_note and '.' not in int_to_note[rounded_pitch] and '' not in int_to_note[rounded_pitch]:\n",
    "            new_note = note.Note(int_to_note[rounded_pitch])\n",
    "            new_note.offset = offset\n",
    "            new_note.storedInstrument = instrument.Piano()\n",
    "            output_notes.append(new_note)\n",
    "    # increase offset each iteration so that notes do not stack\n",
    "    offset += 0.5\n",
    "\n",
    "    midi_stream = stream.Stream(output_notes)\n",
    "    midi_stream.write('midi', fp='test_output.mid')\n",
    "\n",
    "    # Play the generated music (you may need to adjust the player based on your environment)\n",
    "    midi_stream.show('midi')\n",
    "\n",
    "    # Pause for a short duration before the next iteration\n",
    "    time.sleep(1)"
   ]
  },
  {
   "cell_type": "code",
   "execution_count": null,
   "metadata": {
    "colab": {
     "base_uri": "https://localhost:8080/",
     "height": 17
    },
    "id": "c-QtGQLzKfIy",
    "outputId": "d3a434e1-f0f3-4435-b364-ce81897a450f"
   },
   "outputs": [
    {
     "data": {
      "text/html": [
       "\n",
       "        <div id=\"midiPlayerDiv686859\"></div>\n",
       "        <link rel=\"stylesheet\" href=\"https://cuthbertLab.github.io/music21j/css/m21.css\">\n",
       "        \n",
       "        <script\n",
       "        src=\"https://cdnjs.cloudflare.com/ajax/libs/require.js/2.3.6/require.min.js\"\n",
       "        ></script>\n",
       "    \n",
       "        <script>\n",
       "        function midiPlayerDiv686859_play() {\n",
       "            const rq = require.config({\n",
       "                paths: {\n",
       "                    'music21': 'https://cuthbertLab.github.io/music21j/releases/music21.debug',\n",
       "                }\n",
       "            });\n",
       "            rq(['music21'], function(music21) {\n",
       "                mp = new music21.miditools.MidiPlayer();\n",
       "                mp.addPlayer(\"#midiPlayerDiv686859\");\n",
       "                mp.base64Load(\"data:audio/midi;base64,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\");\n",
       "            });\n",
       "        }\n",
       "        if (typeof require === 'undefined') {\n",
       "            setTimeout(midiPlayerDiv686859_play, 2000);\n",
       "        } else {\n",
       "            midiPlayerDiv686859_play();\n",
       "        }\n",
       "        </script>"
      ],
      "text/plain": [
       "<IPython.core.display.HTML object>"
      ]
     },
     "metadata": {},
     "output_type": "display_data"
    }
   ],
   "source": [
    "from music21 import midi, stream\n",
    "\n",
    "# Create a Score object\n",
    "s = stream.Score()\n",
    "\n",
    "# Load MIDI file into Score\n",
    "mf = midi.MidiFile()\n",
    "mf.open('test_output.mid')\n",
    "mf.read()\n",
    "mf.close()\n",
    "s.append(midi.translate.midiFileToStream(mf))\n",
    "\n",
    "# Show the MIDI stream\n",
    "s.show('midi')"
   ]
  }
 ],
 "metadata": {
  "accelerator": "GPU",
  "colab": {
   "gpuType": "T4",
   "provenance": []
  },
  "kernelspec": {
   "display_name": "Python 3 (ipykernel)",
   "language": "python",
   "name": "python3"
  },
  "language_info": {
   "codemirror_mode": {
    "name": "ipython",
    "version": 3
   },
   "file_extension": ".py",
   "mimetype": "text/x-python",
   "name": "python",
   "nbconvert_exporter": "python",
   "pygments_lexer": "ipython3",
   "version": "3.11.7"
  }
 },
 "nbformat": 4,
 "nbformat_minor": 4
}
